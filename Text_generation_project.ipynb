{
 "cells": [
  {
   "cell_type": "code",
   "execution_count": 56,
   "id": "829ffcc4-faf6-40a1-8343-36b8d457b283",
   "metadata": {},
   "outputs": [
    {
     "name": "stderr",
     "output_type": "stream",
     "text": [
      "[nltk_data] Downloading package stopwords to\n",
      "[nltk_data]     C:\\Users\\ACER\\AppData\\Roaming\\nltk_data...\n",
      "[nltk_data]   Package stopwords is already up-to-date!\n"
     ]
    },
    {
     "data": {
      "text/plain": [
       "True"
      ]
     },
     "execution_count": 56,
     "metadata": {},
     "output_type": "execute_result"
    }
   ],
   "source": [
    "import numpy\n",
    "import sys\n",
    "from nltk.tokenize import RegexpTokenizer\n",
    "from nltk.corpus import stopwords\n",
    "from tensorflow.keras.models import Sequential\n",
    "from tensorflow.keras.layers import Dense, Dropout, LSTM\n",
    "from tensorflow.keras.utils import to_categorical\n",
    "from tensorflow.keras.callbacks import ModelCheckpoint\n",
    "import nltk\n",
    "\n",
    "nltk.download('stopwords')\n"
   ]
  },
  {
   "cell_type": "code",
   "execution_count": 57,
   "id": "c3871dd0-8c7e-4ab4-93c1-ae3caa5b427a",
   "metadata": {},
   "outputs": [],
   "source": [
    "#load data\n",
    "file = open(\"frankenstein.txt\").read()"
   ]
  },
  {
   "cell_type": "code",
   "execution_count": 58,
   "id": "8b020bdc-2cdb-4c92-8a78-09eb5351628d",
   "metadata": {},
   "outputs": [],
   "source": [
    "def tokenize_words(input):\n",
    "    input = input.lower()\n",
    "    tokenizer = RegexpTokenizer(r'\\w+')\n",
    "    tokens = tokenizer.tokenize(input)\n",
    "    filtered = filter(lambda token: token not in stopwords.words('english'), tokens)\n",
    "    return \"\".join(filtered)\n",
    "\n",
    "processed_inputs = tokenize_words(file)\n"
   ]
  },
  {
   "cell_type": "code",
   "execution_count": 59,
   "id": "3f9b8216-29db-4a42-9220-3dd9195eb9b7",
   "metadata": {},
   "outputs": [],
   "source": [
    "# chars to numbers\n",
    "chars = sorted(list(set(processed_inputs)))\n",
    "char_to_num = dict((c, i) for i, c in enumerate(chars))"
   ]
  },
  {
   "cell_type": "code",
   "execution_count": 60,
   "id": "3e8d1879-438a-4718-ad63-45fd437501e3",
   "metadata": {},
   "outputs": [
    {
     "name": "stdout",
     "output_type": "stream",
     "text": [
      "Total number of characters: 232972\n",
      "Total vocab: 37\n"
     ]
    }
   ],
   "source": [
    "# check if words to chars or chars to num (?! ) has worked?\n",
    "input_len = len(processed_inputs)\n",
    "vocab_len = len(chars)\n",
    "print(\"Total number of characters:\", input_len)\n",
    "print(\"Total vocab:\", vocab_len)"
   ]
  },
  {
   "cell_type": "code",
   "execution_count": 61,
   "id": "fc5fc30d-da2b-4a27-966f-1888c28b0791",
   "metadata": {},
   "outputs": [],
   "source": [
    "# seq length\n",
    "seq_length = 100\n",
    "x_data = []\n",
    "y_data = []"
   ]
  },
  {
   "cell_type": "code",
   "execution_count": 62,
   "id": "efeeb3c0-5207-4cca-b77a-93fdfe51a75c",
   "metadata": {},
   "outputs": [
    {
     "name": "stdout",
     "output_type": "stream",
     "text": [
      "Total Patterns: 232872\n"
     ]
    }
   ],
   "source": [
    "# loop through the sequence\n",
    "for i in range(0, input_len - seq_length, 1):\n",
    "    in_seq = processed_inputs[i:i + seq_length]\n",
    "    out_seq = processed_inputs[i + seq_length]\n",
    "    x_data.append([char_to_num[char] for char in in_seq])\n",
    "    y_data.append(char_to_num[out_seq])\n",
    "n_patterns = len(x_data)\n",
    "print(\"Total Patterns:\", n_patterns)"
   ]
  },
  {
   "cell_type": "code",
   "execution_count": 63,
   "id": "fa5f2fb0-e61a-449d-ab12-70f5a990196f",
   "metadata": {},
   "outputs": [],
   "source": [
    "# convert input sequence to np array and so on\n",
    "X = numpy.reshape(x_data, (n_patterns, seq_length, 1))\n",
    "X = X / float(vocab_len)"
   ]
  },
  {
   "cell_type": "code",
   "execution_count": 64,
   "id": "18aaee4d-2aeb-4451-9e5a-2ee335c8e23f",
   "metadata": {},
   "outputs": [],
   "source": [
    "from tensorflow.keras.utils import to_categorical\n",
    "y = to_categorical(y_data)\n"
   ]
  },
  {
   "cell_type": "code",
   "execution_count": 65,
   "id": "e2244262-85b9-4053-bc78-65dae8043efb",
   "metadata": {},
   "outputs": [],
   "source": [
    "from tensorflow.keras.models import Sequential\n",
    "from tensorflow.keras.layers import Input, LSTM, Dropout, Dense\n",
    "\n",
    "model = Sequential()\n",
    "model.add(Input(shape=(X.shape[1], X.shape[2])))\n",
    "model.add(LSTM(256, return_sequences=True))\n",
    "model.add(Dropout(0.2))\n",
    "model.add(LSTM(256, return_sequences=True))\n",
    "model.add(Dropout(0.2))\n",
    "model.add(LSTM(128))\n",
    "model.add(Dropout(0.2))\n",
    "model.add(Dense(y.shape[1], activation='softmax'))\n"
   ]
  },
  {
   "cell_type": "code",
   "execution_count": 66,
   "id": "28de8600-9a0c-4c0a-9e47-240b3af7b6f0",
   "metadata": {},
   "outputs": [],
   "source": [
    "# compile the model\n",
    "model.compile(loss='categorical_crossentropy', optimizer='adam')"
   ]
  },
  {
   "cell_type": "code",
   "execution_count": 67,
   "id": "383018d6-83dc-4499-888c-fe5e318f9580",
   "metadata": {},
   "outputs": [],
   "source": [
    "filepath = \"model_weights_saved.keras\"\n",
    "checkpoint = ModelCheckpoint(filepath, monitor='loss', verbose=1, save_best_only=True, mode='min')\n",
    "desired_callbacks = [checkpoint]\n"
   ]
  },
  {
   "cell_type": "code",
   "execution_count": 54,
   "id": "f9528dbe-d713-4692-8035-83d16bf41266",
   "metadata": {},
   "outputs": [
    {
     "name": "stdout",
     "output_type": "stream",
     "text": [
      "Epoch 1/4\n",
      "\u001b[1m1820/1820\u001b[0m \u001b[32m━━━━━━━━━━━━━━━━━━━━\u001b[0m\u001b[37m\u001b[0m \u001b[1m0s\u001b[0m 6s/step - loss: 2.9402      \n",
      "Epoch 1: loss improved from None to 2.92042, saving model to model_weights_saved.keras\n",
      "\u001b[1m1820/1820\u001b[0m \u001b[32m━━━━━━━━━━━━━━━━━━━━\u001b[0m\u001b[37m\u001b[0m \u001b[1m11559s\u001b[0m 6s/step - loss: 2.9204\n",
      "Epoch 2/4\n",
      "\u001b[1m1820/1820\u001b[0m \u001b[32m━━━━━━━━━━━━━━━━━━━━\u001b[0m\u001b[37m\u001b[0m \u001b[1m0s\u001b[0m 4s/step - loss: 2.8891     \n",
      "Epoch 2: loss improved from 2.92042 to 2.87057, saving model to model_weights_saved.keras\n",
      "\u001b[1m1820/1820\u001b[0m \u001b[32m━━━━━━━━━━━━━━━━━━━━\u001b[0m\u001b[37m\u001b[0m \u001b[1m7435s\u001b[0m 4s/step - loss: 2.8706\n",
      "Epoch 3/4\n",
      "\u001b[1m1820/1820\u001b[0m \u001b[32m━━━━━━━━━━━━━━━━━━━━\u001b[0m\u001b[37m\u001b[0m \u001b[1m0s\u001b[0m 22s/step - loss: 2.8059     \n",
      "Epoch 3: loss improved from 2.87057 to 2.77434, saving model to model_weights_saved.keras\n",
      "\u001b[1m1820/1820\u001b[0m \u001b[32m━━━━━━━━━━━━━━━━━━━━\u001b[0m\u001b[37m\u001b[0m \u001b[1m39520s\u001b[0m 22s/step - loss: 2.7743\n",
      "Epoch 4/4\n",
      "\u001b[1m1820/1820\u001b[0m \u001b[32m━━━━━━━━━━━━━━━━━━━━\u001b[0m\u001b[37m\u001b[0m \u001b[1m0s\u001b[0m 18s/step - loss: 2.6654     \n",
      "Epoch 4: loss improved from 2.77434 to 2.63313, saving model to model_weights_saved.keras\n",
      "\u001b[1m1820/1820\u001b[0m \u001b[32m━━━━━━━━━━━━━━━━━━━━\u001b[0m\u001b[37m\u001b[0m \u001b[1m31884s\u001b[0m 18s/step - loss: 2.6331\n"
     ]
    },
    {
     "data": {
      "text/plain": [
       "<keras.src.callbacks.history.History at 0x1861796b0e0>"
      ]
     },
     "execution_count": 54,
     "metadata": {},
     "output_type": "execute_result"
    }
   ],
   "source": [
    "# fit model and let it train\n",
    "model.fit(X, y, epochs=4, batch_size=256, callbacks=desired_callbacks)"
   ]
  },
  {
   "cell_type": "code",
   "execution_count": 70,
   "id": "752f1137-eae5-4501-b079-fe0098fbb5b0",
   "metadata": {},
   "outputs": [],
   "source": [
    "filename = \"model_weights_saved.keras\"\n",
    "model.load_weights(filename)\n",
    "model.compile(loss='categorical_crossentropy', optimizer='adam')\n"
   ]
  },
  {
   "cell_type": "code",
   "execution_count": 71,
   "id": "c8b3cd5e-4cd3-45fc-b4ac-26a632c91e1c",
   "metadata": {},
   "outputs": [],
   "source": [
    "# output of the model back into characters\n",
    "num_to_char = dict((i, c) for i, c in enumerate(chars))"
   ]
  },
  {
   "cell_type": "code",
   "execution_count": 72,
   "id": "1be40ad3-3b32-42e7-8569-a23e3058f35b",
   "metadata": {},
   "outputs": [
    {
     "name": "stdout",
     "output_type": "stream",
     "text": [
      "Random Seed:\n",
      "\" lekeepmenwishedaskthousandquestionswouldallowtormentedidlecuriositystatebodymindwhoserestorationevid \"\n"
     ]
    }
   ],
   "source": [
    "# random seed to help generate\n",
    "start = numpy.random.randint(0, len(x_data) - 1)\n",
    "pattern = x_data[start]\n",
    "print(\"Random Seed:\")\n",
    "print(\"\\\"\", ''.join([num_to_char[value] for value in pattern]), \"\\\"\")"
   ]
  },
  {
   "cell_type": "code",
   "execution_count": 73,
   "id": "a5715a04-2c3a-4e27-9c18-89315d3c26b1",
   "metadata": {},
   "outputs": [
    {
     "name": "stdout",
     "output_type": "stream",
     "text": [
      "rearedareseatedeeartedeareseatedeeartedeareseatedeeartedeareseatedeeartedeareseatedeeartedeareseatedeeartedeareseatedeeartedeareseatedeeartedeareseatedeeartedeareseatedeeartedeareseatedeeartedeareseatedeeartedeareseatedeeartedeareseatedeeartedeareseatedeeartedeareseatedeeartedeareseatedeeartedeareseatedeeartedeareseatedeeartedeareseatedeeartedeareseatedeeartedeareseatedeeartedeareseatedeeartedeareseatedeeartedeareseatedeeartedeareseatedeeartedeareseatedeeartedeareseatedeeartedeareseatedeeartedeareseatedeeartedeareseatedeeartedeareseatedeeartedeareseatedeeartedeareseatedeeartedeareseatedeeartedeareseatedeeartedeareseatedeeartedeareseatedeeartedeareseatedeeartedeareseatedeeartedeareseatedeeartedeareseatedeeartedeareseatedeeartedeareseatedeeartedeareseatedeeartedeareseatedeeartedeareseatedeeartedeareseatedeeartedeareseatedeeartedeareseatedeeartedeareseatedeeartedeareseatedeeartedeareseatedeeartedeareseatedeeartedeareseatedeeartedeareseatedeeartedeareseatedeeartedeareseatedeeartedeareseate"
     ]
    }
   ],
   "source": [
    "# generate the text\n",
    "for i in range(1000):\n",
    "    x = numpy.reshape(pattern, (1, len(pattern), 1))\n",
    "    x = x / float(vocab_len)\n",
    "    prediction = model.predict(x, verbose=0)\n",
    "    index = numpy.argmax(prediction)\n",
    "    result = num_to_char[index]\n",
    "    seq_in = [num_to_char[value] for value in pattern]\n",
    "    sys.stdout.write(result)\n",
    "    pattern.append(index)\n",
    "    pattern = pattern[1:len(pattern)]"
   ]
  },
  {
   "cell_type": "code",
   "execution_count": null,
   "id": "f6cc4870-849a-48cd-a668-fe0428ed760d",
   "metadata": {},
   "outputs": [],
   "source": []
  }
 ],
 "metadata": {
  "kernelspec": {
   "display_name": "Python 3 (ipykernel)",
   "language": "python",
   "name": "python3"
  },
  "language_info": {
   "codemirror_mode": {
    "name": "ipython",
    "version": 3
   },
   "file_extension": ".py",
   "mimetype": "text/x-python",
   "name": "python",
   "nbconvert_exporter": "python",
   "pygments_lexer": "ipython3",
   "version": "3.13.5"
  }
 },
 "nbformat": 4,
 "nbformat_minor": 5
}
